{
 "cells": [
  {
   "cell_type": "markdown",
   "id": "e6ef5231",
   "metadata": {},
   "source": [
    "### Two Sum Problem"
   ]
  },
  {
   "cell_type": "markdown",
   "id": "1cb6838a",
   "metadata": {},
   "source": [
    "#### You have a list of integers, return the indices of the pair of integers that add up to a given target"
   ]
  },
  {
   "cell_type": "markdown",
   "id": "e740d575",
   "metadata": {},
   "source": [
    "### Each input has one solution"
   ]
  },
  {
   "cell_type": "markdown",
   "id": "ab46a54f",
   "metadata": {},
   "source": [
    "#### Example [8,6,11,3] target 9 return [1,3]"
   ]
  },
  {
   "cell_type": "code",
   "execution_count": 1,
   "id": "258d0c00",
   "metadata": {},
   "outputs": [],
   "source": [
    "def two_sum(nums, target):\n",
    "    d = {}\n",
    "    \n",
    "    for i in range(len(nums)):\n",
    "        if target - nums[i] in d:\n",
    "            print(d)\n",
    "            return [d[target-nums[i]],i]\n",
    "        d[nums[i]] = i\n",
    "        \n",
    "    return -1\n",
    "        "
   ]
  },
  {
   "cell_type": "code",
   "execution_count": 2,
   "id": "0cd06781",
   "metadata": {},
   "outputs": [
    {
     "name": "stdout",
     "output_type": "stream",
     "text": [
      "{8: 0, 6: 1, 11: 2}\n",
      "[1, 3]\n"
     ]
    }
   ],
   "source": [
    "L = [8,6,11,3]\n",
    "print(two_sum(L,9))"
   ]
  },
  {
   "cell_type": "code",
   "execution_count": null,
   "id": "ef46a9af",
   "metadata": {},
   "outputs": [],
   "source": []
  }
 ],
 "metadata": {
  "kernelspec": {
   "display_name": "Python 3 (ipykernel)",
   "language": "python",
   "name": "python3"
  },
  "language_info": {
   "codemirror_mode": {
    "name": "ipython",
    "version": 3
   },
   "file_extension": ".py",
   "mimetype": "text/x-python",
   "name": "python",
   "nbconvert_exporter": "python",
   "pygments_lexer": "ipython3",
   "version": "3.9.7"
  }
 },
 "nbformat": 4,
 "nbformat_minor": 5
}
